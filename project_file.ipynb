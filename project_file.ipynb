{
 "cells": [
  {
   "cell_type": "code",
   "execution_count": 1,
   "metadata": {},
   "outputs": [],
   "source": [
    "def create_timestamp ():\n",
    "    import datetime\n",
    "    timestamp = datetime.datetime.now() .strftime('%Y-%m-%d  %H:%M:%S')\n",
    "    return timestamp"
   ]
  },
  {
   "cell_type": "code",
   "execution_count": 2,
   "metadata": {},
   "outputs": [],
   "source": [
    "def current_transection ():\n",
    "    user_input = {}\n",
    "    user_input['timestamp'] = create_timestamp()\n",
    "    user_input['product_id'] = int(input('Enter Product ID:\\n'))\n",
    "    user_input['product_serial'] = input('Enter Product Serial:\\n')\n",
    "    user_input['from'] = input('From:\\n')\n",
    "    user_input['to'] = input('To:\\n')\n",
    "    user_input['massage'] = input('Type your massage:\\n')\n",
    "    user_input['Flag'] = input('T: Ture\\nF: False\\n')\n",
    "    return user_input"
   ]
  },
  {
   "cell_type": "code",
   "execution_count": 3,
   "metadata": {},
   "outputs": [],
   "source": [
    "# def create_block (file_name):\n",
    "#     with open(file_name,'w') as f:\n",
    "#         f.write(f'Block_Created [{create_timestamp()}]\\n')\n",
    "#     return"
   ]
  },
  {
   "cell_type": "code",
   "execution_count": 4,
   "metadata": {},
   "outputs": [],
   "source": [
    "def manufacturer ():\n",
    "    manufacturer_id = input('Enter your ID:\\n')\n",
    "    manufacturer_password = input('Enter your Password:\\n') \n",
    "    if manufacturer_id == 'demo_manufacturer' and manufacturer_password == 'demo_manufacturer':\n",
    "        print('Initialized Chain...\\nInitialized Ledger...')\n",
    "        manufacturer_input = current_transection()\n",
    "#         create_block(file_name = manufacturer_input['product_id'])\n",
    "#         with open (manufacturer_input['product_id'], 'a') as f:\n",
    "#             f.writable(str(manufacturer_input))\n",
    "#             f.writable('\\n')\n",
    "        print(manufacturer_input)\n",
    "    else:\n",
    "        print('Login Incorrect')\n",
    "    return"
   ]
  },
  {
   "cell_type": "code",
   "execution_count": 5,
   "metadata": {},
   "outputs": [
    {
     "name": "stdout",
     "output_type": "stream",
     "text": [
      "1: Manufacturer\n",
      "2: Tranportation\n",
      "3: Retailer\n"
     ]
    },
    {
     "name": "stdin",
     "output_type": "stream",
     "text": [
      "Select your profile 1\n",
      "Enter your ID:\n",
      " demo_manufacturer\n",
      "Enter your Password:\n",
      " demo_manufacturer\n"
     ]
    },
    {
     "name": "stdout",
     "output_type": "stream",
     "text": [
      "Initialized Chain...\n",
      "Initialized Ledger...\n"
     ]
    },
    {
     "name": "stdin",
     "output_type": "stream",
     "text": [
      "Enter Product ID:\n",
      " 001\n",
      "Enter Product Serial:\n",
      " aaa000\n",
      "From:\n",
      " alpha\n",
      "To:\n",
      " tcs\n",
      "Type your massage:\n",
      " all good\n",
      "T: Ture\n",
      "F: False\n",
      " T\n"
     ]
    },
    {
     "name": "stdout",
     "output_type": "stream",
     "text": [
      "{'timestamp': '2021-02-02  23:19:38', 'product_id': 1, 'product_serial': 'aaa000', 'from': 'alpha', 'to': 'tcs', 'massage': 'all good', 'Flag': 'T'}\n"
     ]
    }
   ],
   "source": [
    "print('1: Manufacturer\\n2: Tranportation\\n3: Retailer')\n",
    "user_profile = int(input(\"Select your profile\"))\n",
    "\n",
    "def profile_selector (user_profile):\n",
    "    if user_profile == 1:\n",
    "        return manufacturer()\n",
    "    elif user_profile == 2:\n",
    "        return tranportation()\n",
    "    elif user_profile == 3:\n",
    "        return retailer()\n",
    "    \n",
    "profile_selector(user_profile)"
   ]
  },
  {
   "cell_type": "code",
   "execution_count": null,
   "metadata": {},
   "outputs": [],
   "source": []
  }
 ],
 "metadata": {
  "kernelspec": {
   "display_name": "Python 3",
   "language": "python",
   "name": "python3"
  },
  "language_info": {
   "codemirror_mode": {
    "name": "ipython",
    "version": 3
   },
   "file_extension": ".py",
   "mimetype": "text/x-python",
   "name": "python",
   "nbconvert_exporter": "python",
   "pygments_lexer": "ipython3",
   "version": "3.8.5"
  }
 },
 "nbformat": 4,
 "nbformat_minor": 4
}
